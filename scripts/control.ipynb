{
 "nbformat": 4,
 "nbformat_minor": 2,
 "metadata": {
  "language_info": {
   "name": "python",
   "codemirror_mode": {
    "name": "ipython",
    "version": 3
   },
   "version": "3.8.2-final"
  },
  "orig_nbformat": 2,
  "file_extension": ".py",
  "mimetype": "text/x-python",
  "name": "python",
  "npconvert_exporter": "python",
  "pygments_lexer": "ipython3",
  "version": 3,
  "kernelspec": {
   "name": "python3",
   "display_name": "Python 3"
  }
 },
 "cells": [
  {
   "cell_type": "code",
   "execution_count": 5,
   "metadata": {},
   "outputs": [],
   "source": [
    "import pandas as pd\n",
    "import re"
   ]
  },
  {
   "cell_type": "code",
   "execution_count": 6,
   "metadata": {},
   "outputs": [],
   "source": [
    "df = pd.read_csv('CG_overall_20200417.csv')"
   ]
  },
  {
   "cell_type": "code",
   "execution_count": 7,
   "metadata": {},
   "outputs": [
    {
     "output_type": "execute_result",
     "data": {
      "text/plain": "  NameInstance  tot_real_time  tot_cputime    tot_lb  tot_lb_root  \\\n0    wt040_001       4.117461     3.109780  1.559263     2.222150   \n1    wt040_001       4.490360     3.296974  1.402548     1.979337   \n2    wt040_001       4.875082     4.605185  3.466798     3.467085   \n3    wt040_001       1.593831     1.422315  0.716217     0.716327   \n4    wt040_001       6.777839     4.638446  2.736107     3.760321   \n\n   tot_heuristic  tot_build_dd  tot_pricing  tot_reduce_cost_fixing rel_error  \\\n0       0.433879      0.451956     0.683197                0.781454  0.037671   \n1       0.681506      0.634069     0.414344                0.860248  0.037671   \n2       0.682372      0.453378     2.904418                0.442477  0.037671   \n3       0.694856      0.000000     0.628629                0.016280  0.037671   \n4       0.426429      0.449486     1.328596                1.306107  0.037671   \n\n   ...  size_after_reduced_cost  mip_nb_vars mip_nb_constr  mip_obj_bound  \\\n0  ...                    34902            0             0            0.0   \n1  ...                    34985            0             0            0.0   \n2  ...                    36244            0             0            0.0   \n3  ...                    29275            0             0            0.0   \n4  ...                    59889            0             0            0.0   \n\n  mip_obj_bound_lp  mip_rel_gap  mip_run_time  mip_status  \\\n0              0.0          0.0         110.0           0   \n1              0.0          0.0         110.0           0   \n2              0.0          0.0         110.0           0   \n3              0.0          0.0         110.0           0   \n4              0.0          0.0         110.0           0   \n\n   mip_nb_iter_simplex  mip_nb_nodes  \n0                  0.0           0.0  \n1                  0.0           0.0  \n2                  0.0           0.0  \n3                  0.0           0.0  \n4                  0.0           0.0  \n\n[5 rows x 32 columns]",
      "text/html": "<div>\n<style scoped>\n    .dataframe tbody tr th:only-of-type {\n        vertical-align: middle;\n    }\n\n    .dataframe tbody tr th {\n        vertical-align: top;\n    }\n\n    .dataframe thead th {\n        text-align: right;\n    }\n</style>\n<table border=\"1\" class=\"dataframe\">\n  <thead>\n    <tr style=\"text-align: right;\">\n      <th></th>\n      <th>NameInstance</th>\n      <th>tot_real_time</th>\n      <th>tot_cputime</th>\n      <th>tot_lb</th>\n      <th>tot_lb_root</th>\n      <th>tot_heuristic</th>\n      <th>tot_build_dd</th>\n      <th>tot_pricing</th>\n      <th>tot_reduce_cost_fixing</th>\n      <th>rel_error</th>\n      <th>...</th>\n      <th>size_after_reduced_cost</th>\n      <th>mip_nb_vars</th>\n      <th>mip_nb_constr</th>\n      <th>mip_obj_bound</th>\n      <th>mip_obj_bound_lp</th>\n      <th>mip_rel_gap</th>\n      <th>mip_run_time</th>\n      <th>mip_status</th>\n      <th>mip_nb_iter_simplex</th>\n      <th>mip_nb_nodes</th>\n    </tr>\n  </thead>\n  <tbody>\n    <tr>\n      <th>0</th>\n      <td>wt040_001</td>\n      <td>4.117461</td>\n      <td>3.109780</td>\n      <td>1.559263</td>\n      <td>2.222150</td>\n      <td>0.433879</td>\n      <td>0.451956</td>\n      <td>0.683197</td>\n      <td>0.781454</td>\n      <td>0.037671</td>\n      <td>...</td>\n      <td>34902</td>\n      <td>0</td>\n      <td>0</td>\n      <td>0.0</td>\n      <td>0.0</td>\n      <td>0.0</td>\n      <td>110.0</td>\n      <td>0</td>\n      <td>0.0</td>\n      <td>0.0</td>\n    </tr>\n    <tr>\n      <th>1</th>\n      <td>wt040_001</td>\n      <td>4.490360</td>\n      <td>3.296974</td>\n      <td>1.402548</td>\n      <td>1.979337</td>\n      <td>0.681506</td>\n      <td>0.634069</td>\n      <td>0.414344</td>\n      <td>0.860248</td>\n      <td>0.037671</td>\n      <td>...</td>\n      <td>34985</td>\n      <td>0</td>\n      <td>0</td>\n      <td>0.0</td>\n      <td>0.0</td>\n      <td>0.0</td>\n      <td>110.0</td>\n      <td>0</td>\n      <td>0.0</td>\n      <td>0.0</td>\n    </tr>\n    <tr>\n      <th>2</th>\n      <td>wt040_001</td>\n      <td>4.875082</td>\n      <td>4.605185</td>\n      <td>3.466798</td>\n      <td>3.467085</td>\n      <td>0.682372</td>\n      <td>0.453378</td>\n      <td>2.904418</td>\n      <td>0.442477</td>\n      <td>0.037671</td>\n      <td>...</td>\n      <td>36244</td>\n      <td>0</td>\n      <td>0</td>\n      <td>0.0</td>\n      <td>0.0</td>\n      <td>0.0</td>\n      <td>110.0</td>\n      <td>0</td>\n      <td>0.0</td>\n      <td>0.0</td>\n    </tr>\n    <tr>\n      <th>3</th>\n      <td>wt040_001</td>\n      <td>1.593831</td>\n      <td>1.422315</td>\n      <td>0.716217</td>\n      <td>0.716327</td>\n      <td>0.694856</td>\n      <td>0.000000</td>\n      <td>0.628629</td>\n      <td>0.016280</td>\n      <td>0.037671</td>\n      <td>...</td>\n      <td>29275</td>\n      <td>0</td>\n      <td>0</td>\n      <td>0.0</td>\n      <td>0.0</td>\n      <td>0.0</td>\n      <td>110.0</td>\n      <td>0</td>\n      <td>0.0</td>\n      <td>0.0</td>\n    </tr>\n    <tr>\n      <th>4</th>\n      <td>wt040_001</td>\n      <td>6.777839</td>\n      <td>4.638446</td>\n      <td>2.736107</td>\n      <td>3.760321</td>\n      <td>0.426429</td>\n      <td>0.449486</td>\n      <td>1.328596</td>\n      <td>1.306107</td>\n      <td>0.037671</td>\n      <td>...</td>\n      <td>59889</td>\n      <td>0</td>\n      <td>0</td>\n      <td>0.0</td>\n      <td>0.0</td>\n      <td>0.0</td>\n      <td>110.0</td>\n      <td>0</td>\n      <td>0.0</td>\n      <td>0.0</td>\n    </tr>\n  </tbody>\n</table>\n<p>5 rows × 32 columns</p>\n</div>"
     },
     "metadata": {},
     "execution_count": 7
    }
   ],
   "source": [
    "df.head()"
   ]
  },
  {
   "cell_type": "code",
   "execution_count": 8,
   "metadata": {},
   "outputs": [],
   "source": [
    "df['Inst'] = df.NameInstance.apply(lambda x:  int(re.search(r'.*\\_(\\d+)', x).group(1)))"
   ]
  },
  {
   "cell_type": "code",
   "execution_count": 9,
   "metadata": {},
   "outputs": [],
   "source": [
    "df_pessoa = pd.read_csv('results/all_pessoa.csv')"
   ]
  },
  {
   "cell_type": "code",
   "execution_count": 10,
   "metadata": {},
   "outputs": [
    {
     "output_type": "execute_result",
     "data": {
      "text/plain": "   Inst   n  m  Heu_UB  1st.CG_LB  1st.CG_Iter  1st.CG_Time  1st.CG_R.Arcs  \\\n0     1  40  2     606        584          243         17.4          13085   \n1     6  40  2    3886       3875          290         15.9          49131   \n2    11  40  2    9617       9592          320         15.9          29788   \n3    16  40  2   38356      38279          393         17.3          21291   \n4    21  40  2   41048      41048          320         10.8              0   \n\n   Remaining root node_LB  Remaining root node_CutR  Remaining root node_Time  \\\n0                     606                         7                      63.5   \n1                    3886                         3                      11.8   \n2                    9617                         2                       6.4   \n3                   38356                        12                      41.8   \n4                   41048                         0                       0.0   \n\n   Remaining root node_R.Arcs BCP_Nd BCP_Time Root+CPLEX_Nd Root+CPLEX_Time  \\\n0                           0      1     80.9           NaN             NaN   \n1                           0      1     27.7           NaN             NaN   \n2                           0      1     22.3           NaN             NaN   \n3                           0      1     59.1           NaN             NaN   \n4                           0      1     10.8           NaN             NaN   \n\n     Opt  \n0    606  \n1   3886  \n2   9617  \n3  38356  \n4  41048  ",
      "text/html": "<div>\n<style scoped>\n    .dataframe tbody tr th:only-of-type {\n        vertical-align: middle;\n    }\n\n    .dataframe tbody tr th {\n        vertical-align: top;\n    }\n\n    .dataframe thead th {\n        text-align: right;\n    }\n</style>\n<table border=\"1\" class=\"dataframe\">\n  <thead>\n    <tr style=\"text-align: right;\">\n      <th></th>\n      <th>Inst</th>\n      <th>n</th>\n      <th>m</th>\n      <th>Heu_UB</th>\n      <th>1st.CG_LB</th>\n      <th>1st.CG_Iter</th>\n      <th>1st.CG_Time</th>\n      <th>1st.CG_R.Arcs</th>\n      <th>Remaining root node_LB</th>\n      <th>Remaining root node_CutR</th>\n      <th>Remaining root node_Time</th>\n      <th>Remaining root node_R.Arcs</th>\n      <th>BCP_Nd</th>\n      <th>BCP_Time</th>\n      <th>Root+CPLEX_Nd</th>\n      <th>Root+CPLEX_Time</th>\n      <th>Opt</th>\n    </tr>\n  </thead>\n  <tbody>\n    <tr>\n      <th>0</th>\n      <td>1</td>\n      <td>40</td>\n      <td>2</td>\n      <td>606</td>\n      <td>584</td>\n      <td>243</td>\n      <td>17.4</td>\n      <td>13085</td>\n      <td>606</td>\n      <td>7</td>\n      <td>63.5</td>\n      <td>0</td>\n      <td>1</td>\n      <td>80.9</td>\n      <td>NaN</td>\n      <td>NaN</td>\n      <td>606</td>\n    </tr>\n    <tr>\n      <th>1</th>\n      <td>6</td>\n      <td>40</td>\n      <td>2</td>\n      <td>3886</td>\n      <td>3875</td>\n      <td>290</td>\n      <td>15.9</td>\n      <td>49131</td>\n      <td>3886</td>\n      <td>3</td>\n      <td>11.8</td>\n      <td>0</td>\n      <td>1</td>\n      <td>27.7</td>\n      <td>NaN</td>\n      <td>NaN</td>\n      <td>3886</td>\n    </tr>\n    <tr>\n      <th>2</th>\n      <td>11</td>\n      <td>40</td>\n      <td>2</td>\n      <td>9617</td>\n      <td>9592</td>\n      <td>320</td>\n      <td>15.9</td>\n      <td>29788</td>\n      <td>9617</td>\n      <td>2</td>\n      <td>6.4</td>\n      <td>0</td>\n      <td>1</td>\n      <td>22.3</td>\n      <td>NaN</td>\n      <td>NaN</td>\n      <td>9617</td>\n    </tr>\n    <tr>\n      <th>3</th>\n      <td>16</td>\n      <td>40</td>\n      <td>2</td>\n      <td>38356</td>\n      <td>38279</td>\n      <td>393</td>\n      <td>17.3</td>\n      <td>21291</td>\n      <td>38356</td>\n      <td>12</td>\n      <td>41.8</td>\n      <td>0</td>\n      <td>1</td>\n      <td>59.1</td>\n      <td>NaN</td>\n      <td>NaN</td>\n      <td>38356</td>\n    </tr>\n    <tr>\n      <th>4</th>\n      <td>21</td>\n      <td>40</td>\n      <td>2</td>\n      <td>41048</td>\n      <td>41048</td>\n      <td>320</td>\n      <td>10.8</td>\n      <td>0</td>\n      <td>41048</td>\n      <td>0</td>\n      <td>0.0</td>\n      <td>0</td>\n      <td>1</td>\n      <td>10.8</td>\n      <td>NaN</td>\n      <td>NaN</td>\n      <td>41048</td>\n    </tr>\n  </tbody>\n</table>\n</div>"
     },
     "metadata": {},
     "execution_count": 10
    }
   ],
   "source": [
    "df_pessoa.head()"
   ]
  },
  {
   "cell_type": "code",
   "execution_count": 13,
   "metadata": {},
   "outputs": [],
   "source": [
    "df_pessoa.Opt= df_pessoa.Opt.apply(str)"
   ]
  },
  {
   "cell_type": "code",
   "execution_count": 15,
   "metadata": {},
   "outputs": [],
   "source": [
    "df_pessoa['best'] = df_pessoa.apply(lambda x: re.search(r'[^0-9]?(\\d+)', x['Opt']).group(1),axis=1)"
   ]
  },
  {
   "cell_type": "code",
   "execution_count": 16,
   "metadata": {},
   "outputs": [],
   "source": [
    "df_pessoa.best = df_pessoa.best.apply(pd.to_numeric)"
   ]
  },
  {
   "cell_type": "code",
   "execution_count": 128,
   "metadata": {},
   "outputs": [
    {
     "output_type": "stream",
     "name": "stdout",
     "text": "<class 'pandas.core.frame.DataFrame'>\nRangeIndex: 150 entries, 0 to 149\nData columns (total 18 columns):\n #   Column                      Non-Null Count  Dtype  \n---  ------                      --------------  -----  \n 0   Inst                        150 non-null    int64  \n 1   n                           150 non-null    int64  \n 2   m                           150 non-null    int64  \n 3   Heu_UB                      150 non-null    int64  \n 4   1st.CG_LB                   150 non-null    int64  \n 5   1st.CG_Iter                 150 non-null    int64  \n 6   1st.CG_Time                 150 non-null    float64\n 7   1st.CG_R.Arcs               150 non-null    int64  \n 8   Remaining root node_LB      150 non-null    int64  \n 9   Remaining root node_CutR    150 non-null    int64  \n 10  Remaining root node_Time    150 non-null    float64\n 11  Remaining root node_R.Arcs  150 non-null    int64  \n 12  BCP_Nd                      150 non-null    object \n 13  BCP_Time                    150 non-null    object \n 14  Root+CPLEX_Nd               51 non-null     object \n 15  Root+CPLEX_Time             52 non-null     object \n 16  Opt                         150 non-null    object \n 17  best                        150 non-null    int64  \ndtypes: float64(2), int64(11), object(5)\nmemory usage: 21.2+ KB\n"
    }
   ],
   "source": [
    "df_pessoa.info()"
   ]
  },
  {
   "cell_type": "code",
   "execution_count": 17,
   "metadata": {},
   "outputs": [],
   "source": [
    "df_all = pd.merge(df, df_pessoa, on=['Inst', 'n','m'])"
   ]
  },
  {
   "cell_type": "code",
   "execution_count": 18,
   "metadata": {},
   "outputs": [
    {
     "output_type": "execute_result",
     "data": {
      "text/plain": "Empty DataFrame\nColumns: [NameInstance, tot_real_time, tot_cputime, tot_lb, tot_lb_root, tot_heuristic, tot_build_dd, tot_pricing, tot_reduce_cost_fixing, rel_error, global_lower_bound, global_upper_bound, first_rel_error, nb_generated_col, date, nb_iterations_rvnd, stabilization, alpha, pricing_solver, n, m, first_size_graph, size_after_reduced_cost, mip_nb_vars, mip_nb_constr, mip_obj_bound, mip_obj_bound_lp, mip_rel_gap, mip_run_time, mip_status, mip_nb_iter_simplex, mip_nb_nodes, Inst, Heu_UB, 1st.CG_LB, 1st.CG_Iter, 1st.CG_Time, 1st.CG_R.Arcs, Remaining root node_LB, Remaining root node_CutR, Remaining root node_Time, Remaining root node_R.Arcs, BCP_Nd, BCP_Time, Root+CPLEX_Nd, Root+CPLEX_Time, Opt, best]\nIndex: []\n\n[0 rows x 48 columns]",
      "text/html": "<div>\n<style scoped>\n    .dataframe tbody tr th:only-of-type {\n        vertical-align: middle;\n    }\n\n    .dataframe tbody tr th {\n        vertical-align: top;\n    }\n\n    .dataframe thead th {\n        text-align: right;\n    }\n</style>\n<table border=\"1\" class=\"dataframe\">\n  <thead>\n    <tr style=\"text-align: right;\">\n      <th></th>\n      <th>NameInstance</th>\n      <th>tot_real_time</th>\n      <th>tot_cputime</th>\n      <th>tot_lb</th>\n      <th>tot_lb_root</th>\n      <th>tot_heuristic</th>\n      <th>tot_build_dd</th>\n      <th>tot_pricing</th>\n      <th>tot_reduce_cost_fixing</th>\n      <th>rel_error</th>\n      <th>...</th>\n      <th>Remaining root node_LB</th>\n      <th>Remaining root node_CutR</th>\n      <th>Remaining root node_Time</th>\n      <th>Remaining root node_R.Arcs</th>\n      <th>BCP_Nd</th>\n      <th>BCP_Time</th>\n      <th>Root+CPLEX_Nd</th>\n      <th>Root+CPLEX_Time</th>\n      <th>Opt</th>\n      <th>best</th>\n    </tr>\n  </thead>\n  <tbody>\n  </tbody>\n</table>\n<p>0 rows × 48 columns</p>\n</div>"
     },
     "metadata": {},
     "execution_count": 18
    }
   ],
   "source": [
    "df_all[df_all['global_lower_bound'] > df_all['best']]"
   ]
  },
  {
   "cell_type": "code",
   "execution_count": null,
   "metadata": {},
   "outputs": [],
   "source": []
  },
  {
   "cell_type": "code",
   "execution_count": null,
   "metadata": {},
   "outputs": [],
   "source": []
  }
 ]
}